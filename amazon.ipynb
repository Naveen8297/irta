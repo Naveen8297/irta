{
 "cells": [
  {
   "cell_type": "code",
   "execution_count": 78,
   "metadata": {
    "pycharm": {
     "is_executing": false
    }
   },
   "outputs": [],
   "source": [
    "import pandas as pd\n",
    "import matplotlib.pyplot as plt\n",
    "import nltk\n",
    "from nltk.sentiment.vader import SentimentIntensityAnalyzer\n",
    "from nltk.corpus import stopwords\n",
    "from sklearn.feature_extraction.text import CountVectorizer\n",
    "# nltk.download()"
   ]
  },
  {
   "cell_type": "code",
   "execution_count": 79,
   "metadata": {
    "pycharm": {
     "is_executing": false
    }
   },
   "outputs": [],
   "source": [
    "df = pd.read_csv(r'Datafiniti_Amazon_Consumer_Reviews_of_Amazon_Products_May19.csv')"
   ]
  },
  {
   "cell_type": "code",
   "execution_count": 80,
   "metadata": {
    "pycharm": {
     "is_executing": false
    }
   },
   "outputs": [],
   "source": [
    "# remove NaN\n",
    "dataAfter = df.dropna(subset=[\"reviews.rating\"])\n",
    "\n",
    "# convert the rating to integer\n",
    "dataAfter[\"reviews.rating\"] = dataAfter[\"reviews.rating\"].astype(int)\n",
    "df = dataAfter"
   ]
  },
  {
   "cell_type": "code",
   "execution_count": 81,
   "metadata": {
    "pycharm": {
     "is_executing": false,
     "name": "#%%\n"
    }
   },
   "outputs": [],
   "source": [
    "import numpy as np\n",
    "\n",
    "# implement sentiment analysis\n",
    "analyser = SentimentIntensityAnalyzer()\n",
    "def get_sentiment(text):\n",
    "    sent = analyser.polarity_scores(text)\n",
    "    max = np.max(sent)\n",
    "    if sent['neg'] > sent['neu'] and sent['neg'] > sent['pos']:\n",
    "        return \"NEGATIVE\"\n",
    "    if sent['neu'] > sent['pos'] and sent['neu'] > sent['neg']:\n",
    "        return \"NEUTRAL\"\n",
    "    if sent['pos'] > sent['neu'] and sent['pos'] > sent['neg']:\n",
    "        return \"POSITIVE\"\n",
    "    # return np.array([sent['neg'], sent['neu'], sent['pos']])\n",
    "\n",
    "\n",
    "df['reviews.sentiment'] = df['reviews.text'].apply(get_sentiment)\n",
    "df['reviews.sent_text'] = df['reviews.sentiment'] + \" \" + df['reviews.text']\n"
   ]
  },
  {
   "cell_type": "code",
   "execution_count": 82,
   "metadata": {
    "pycharm": {
     "is_executing": false
    }
   },
   "outputs": [],
   "source": [
    "w_tokenizer = nltk.tokenize.WhitespaceTokenizer()\n",
    "lemmatizer = nltk.stem.WordNetLemmatizer()\n",
    "\n",
    "def lemmatize_text(text):\n",
    "    return [lemmatizer.lemmatize(w) for w in w_tokenizer.tokenize(text)]\n",
    "\n",
    "stop_words = set(stopwords.words('english'))\n",
    "stop_words.add('review')\n",
    "stop_words.add('that')\n",
    "\n",
    "# to lowercase\n",
    "df['reviews.text'] = df['reviews.text'].str.lower()\n",
    "\n",
    "# Lemmatization\n",
    "df['reviews.text'] = df['reviews.text'].apply(lemmatize_text)\n",
    "\n",
    "# Remove stop words\n",
    "df['reviews.text'] = df['reviews.text'].apply(lambda x: [item for item in x if item not in stop_words])\n",
    "\n",
    "# Rejoing the words into a sentence\n",
    "df['reviews.text'] = df['reviews.text'].str.join(' ')"
   ]
  },
  {
   "cell_type": "code",
   "execution_count": 83,
   "metadata": {
    "pycharm": {
     "is_executing": false,
     "name": "#%%\n"
    }
   },
   "outputs": [],
   "source": [
    "from sklearn.model_selection import train_test_split\n",
    "from sklearn.ensemble import RandomForestClassifier \n",
    "from sklearn.metrics import classification_report, confusion_matrix, accuracy_score\n",
    "\n",
    "# print(df['reviews.sent_text'])\n",
    "\n",
    "cv = CountVectorizer(binary=True)\n",
    "cv.fit(df['reviews.text'])\n",
    "X = cv.transform(df['reviews.text'])\n",
    "# X = list(df['reviews.sentiment'])\n",
    "y = df['reviews.rating']\n",
    "\n",
    "\n",
    "X_train, X_test, y_train, y_test = train_test_split(X, y, test_size=0.2, random_state=0)"
   ]
  },
  {
   "cell_type": "code",
   "execution_count": 90,
   "metadata": {
    "pycharm": {
     "is_executing": false,
     "name": "#%%\n"
    }
   },
   "outputs": [
    {
     "data": {
      "text/plain": [
       "RandomForestClassifier(bootstrap=True, ccp_alpha=0.0, class_weight=None,\n",
       "                       criterion='gini', max_depth=None, max_features='auto',\n",
       "                       max_leaf_nodes=None, max_samples=None,\n",
       "                       min_impurity_decrease=0.0, min_impurity_split=None,\n",
       "                       min_samples_leaf=1, min_samples_split=2,\n",
       "                       min_weight_fraction_leaf=0.0, n_estimators=100,\n",
       "                       n_jobs=None, oob_score=False, random_state=0, verbose=0,\n",
       "                       warm_start=False)"
      ]
     },
     "execution_count": 90,
     "metadata": {},
     "output_type": "execute_result"
    }
   ],
   "source": [
    "regressor = RandomForestClassifier(n_estimators=100, random_state=0)\n",
    "regressor.fit(X_train, y_train)"
   ]
  },
  {
   "cell_type": "code",
   "execution_count": 91,
   "metadata": {
    "pycharm": {
     "is_executing": false,
     "name": "#%%\n"
    }
   },
   "outputs": [
    {
     "name": "stdout",
     "output_type": "stream",
     "text": [
      "[[ 115    1    3    3   75]\n",
      " [  14   47    2    8   55]\n",
      " [   2    8  133    9   92]\n",
      " [   1    0    3  691  433]\n",
      " [   8    1    4   59 3900]]\n",
      "              precision    recall  f1-score   support\n",
      "\n",
      "           1       0.82      0.58      0.68       197\n",
      "           2       0.82      0.37      0.51       126\n",
      "           3       0.92      0.55      0.68       244\n",
      "           4       0.90      0.61      0.73      1128\n",
      "           5       0.86      0.98      0.91      3972\n",
      "\n",
      "    accuracy                           0.86      5667\n",
      "   macro avg       0.86      0.62      0.70      5667\n",
      "weighted avg       0.87      0.86      0.85      5667\n",
      "\n",
      "0.8621845773778013\n"
     ]
    }
   ],
   "source": [
    "y_pred = regressor.predict(X_test)\n",
    "\n",
    "print(confusion_matrix(y_test,y_pred))\n",
    "print(classification_report(y_test,y_pred))\n",
    "print(accuracy_score(y_test, y_pred))"
   ]
  },
  {
   "cell_type": "code",
   "execution_count": 92,
   "metadata": {},
   "outputs": [
    {
     "name": "stdout",
     "output_type": "stream",
     "text": [
      "[[5.83756345e-01 5.07614213e-03 1.52284264e-02 1.52284264e-02\n",
      "  3.80710660e-01]\n",
      " [1.11111111e-01 3.73015873e-01 1.58730159e-02 6.34920635e-02\n",
      "  4.36507937e-01]\n",
      " [8.19672131e-03 3.27868852e-02 5.45081967e-01 3.68852459e-02\n",
      "  3.77049180e-01]\n",
      " [8.86524823e-04 0.00000000e+00 2.65957447e-03 6.12588652e-01\n",
      "  3.83865248e-01]\n",
      " [2.01409869e-03 2.51762336e-04 1.00704935e-03 1.48539778e-02\n",
      "  9.81873112e-01]]\n"
     ]
    },
    {
     "data": {
      "image/png": "[encoded data removed]",
      "text/plain": [
       "<Figure size 432x288 with 2 Axes>"
      ]
     },
     "metadata": {
      "needs_background": "light"
     },
     "output_type": "display_data"
    }
   ],
   "source": [
    "from sklearn.metrics import plot_confusion_matrix\n",
    "disp = plot_confusion_matrix(regressor, \n",
    "                            X_test, y_test,\n",
    "                            display_labels=['1','2','3','4','5'],\n",
    "                            cmap=plt.cm.Blues,\n",
    "                            normalize='true')\n",
    "disp.ax_.set_title('Normalized confusion matrix')\n",
    "print(disp.confusion_matrix)"
   ]
  },
  {
   "cell_type": "code",
   "execution_count": 56,
   "metadata": {
    "pycharm": {
     "name": "#%%\n"
    }
   },
   "outputs": [
    {
     "name": "stdout",
     "output_type": "stream",
     "text": [
      "Accuracy for C=0.01: 0.6950444726810674\n",
      "Accuracy for C=0.05: 0.6915148948185798\n"
     ]
    },
    {
     "name": "stderr",
     "output_type": "stream",
     "text": [
      "/usr/local/lib/python3.7/dist-packages/sklearn/linear_model/_logistic.py:940: ConvergenceWarning: lbfgs failed to converge (status=1):\n",
      "STOP: TOTAL NO. of ITERATIONS REACHED LIMIT.\n",
      "\n",
      "Increase the number of iterations (max_iter) or scale the data as shown in:\n",
      "    https://scikit-learn.org/stable/modules/preprocessing.html\n",
      "Please also refer to the documentation for alternative solver options:\n",
      "    https://scikit-learn.org/stable/modules/linear_model.html#logistic-regression\n",
      "  extra_warning_msg=_LOGISTIC_SOLVER_CONVERGENCE_MSG)\n"
     ]
    },
    {
     "name": "stdout",
     "output_type": "stream",
     "text": [
      "Accuracy for C=0.25: 0.6817732599181138\n"
     ]
    },
    {
     "name": "stderr",
     "output_type": "stream",
     "text": [
      "/usr/local/lib/python3.7/dist-packages/sklearn/linear_model/_logistic.py:940: ConvergenceWarning: lbfgs failed to converge (status=1):\n",
      "STOP: TOTAL NO. of ITERATIONS REACHED LIMIT.\n",
      "\n",
      "Increase the number of iterations (max_iter) or scale the data as shown in:\n",
      "    https://scikit-learn.org/stable/modules/preprocessing.html\n",
      "Please also refer to the documentation for alternative solver options:\n",
      "    https://scikit-learn.org/stable/modules/linear_model.html#logistic-regression\n",
      "  extra_warning_msg=_LOGISTIC_SOLVER_CONVERGENCE_MSG)\n"
     ]
    },
    {
     "name": "stdout",
     "output_type": "stream",
     "text": [
      "Accuracy for C=0.5: 0.6738670055061414\n",
      "Accuracy for C=1: 0.662289990117182\n"
     ]
    },
    {
     "name": "stderr",
     "output_type": "stream",
     "text": [
      "/usr/local/lib/python3.7/dist-packages/sklearn/linear_model/_logistic.py:940: ConvergenceWarning: lbfgs failed to converge (status=1):\n",
      "STOP: TOTAL NO. of ITERATIONS REACHED LIMIT.\n",
      "\n",
      "Increase the number of iterations (max_iter) or scale the data as shown in:\n",
      "    https://scikit-learn.org/stable/modules/preprocessing.html\n",
      "Please also refer to the documentation for alternative solver options:\n",
      "    https://scikit-learn.org/stable/modules/linear_model.html#logistic-regression\n",
      "  extra_warning_msg=_LOGISTIC_SOLVER_CONVERGENCE_MSG)\n"
     ]
    }
   ],
   "source": [
    "from sklearn.linear_model import LogisticRegression\n",
    "from sklearn.metrics import accuracy_score\n",
    "from sklearn.model_selection import train_test_split\n",
    "\n",
    "temp = df.sample(len(df))\n",
    "\n",
    "cv = CountVectorizer(binary=True)\n",
    "cv.fit(df['reviews.text'])\n",
    "X = cv.transform(df['reviews.text'])\n",
    "X_test = cv.transform(df['reviews.text'])\n",
    "\n",
    "target = temp['reviews.rating']\n",
    "\n",
    "X_train, X_val, y_train, y_val = train_test_split(\n",
    "    X, target, train_size = 0.75\n",
    ")\n",
    "\n",
    "for c in [0.01, 0.05, 0.25, 0.5, 1]:\n",
    "    \n",
    "    lr = LogisticRegression(C=c)\n",
    "    lr.fit(X_train, y_train)\n",
    "    print (\"Accuracy for C=%s: %s\" \n",
    "           % (c, accuracy_score(y_val, lr.predict(X_val))))"
   ]
  },
  {
   "cell_type": "code",
   "execution_count": 57,
   "metadata": {
    "pycharm": {
     "is_executing": false,
     "name": "#%%    \n"
    }
   },
   "outputs": [
    {
     "name": "stdout",
     "output_type": "stream",
     "text": [
      "Final Accuracy: 0.7025271777495412\n"
     ]
    }
   ],
   "source": [
    "final_model = LogisticRegression(C=0.01)\n",
    "final_model.fit(X, target)\n",
    "print (\"Final Accuracy: %s\" \n",
    "       % accuracy_score(target, final_model.predict(X_test)))\n",
    "\n",
    "feature_to_coef = {\n",
    "    word: coef for word, coef in zip(\n",
    "        cv.get_feature_names(), final_model.coef_[0]\n",
    "    )\n",
    "}"
   ]
  },
  {
   "cell_type": "code",
   "execution_count": 58,
   "metadata": {
    "pycharm": {
     "is_executing": false,
     "name": "#%%\n"
    }
   },
   "outputs": [
    {
     "name": "stdout",
     "output_type": "stream",
     "text": [
      "('long', 0.09387525943899577)\n",
      "('wireless', 0.09255086379381842)\n",
      "('little', 0.08310696347342685)\n",
      "('absolutely', 0.07523021392822175)\n",
      "('got', 0.07504667843266634)\n"
     ]
    }
   ],
   "source": [
    "for best_positive in sorted(\n",
    "    feature_to_coef.items(), \n",
    "    key=lambda x: x[1], \n",
    "    reverse=True)[:5]:\n",
    "    print (best_positive)\n",
    "   "
   ]
  },
  {
   "cell_type": "code",
   "execution_count": 59,
   "metadata": {
    "pycharm": {
     "is_executing": false,
     "name": "#%% \n"
    }
   },
   "outputs": [
    {
     "name": "stdout",
     "output_type": "stream",
     "text": [
      "('amazon', -0.11411212949811832)\n",
      "('new', -0.10179833020812853)\n",
      "('value', -0.0942535192165495)\n",
      "('get', -0.08319806016135434)\n",
      "('month', -0.0746227245035376)\n"
     ]
    }
   ],
   "source": [
    "for best_negative in sorted(\n",
    "    feature_to_coef.items(), \n",
    "    key=lambda x: x[1])[:5]:\n",
    "    print (best_negative)"
   ]
  },
  {
   "cell_type": "code",
   "execution_count": 60,
   "metadata": {
    "pycharm": {
     "is_executing": false
    }
   },
   "outputs": [
    {
     "data": {
      "text/plain": [
       "5    0.702280\n",
       "4    0.199351\n",
       "3    0.042567\n",
       "1    0.034060\n",
       "2    0.021742\n",
       "Name: reviews.rating, dtype: float64"
      ]
     },
     "execution_count": 60,
     "metadata": {},
     "output_type": "execute_result"
    }
   ],
   "source": [
    "df[\"reviews.rating\"].value_counts()/len(df)   #percentage of ratings"
   ]
  },
  {
   "cell_type": "code",
   "execution_count": 61,
   "metadata": {
    "pycharm": {
     "is_executing": false
    }
   },
   "outputs": [],
   "source": [
    "reviews = df.copy()"
   ]
  },
  {
   "cell_type": "code",
   "execution_count": 62,
   "metadata": {
    "pycharm": {
     "is_executing": false
    }
   },
   "outputs": [
    {
     "data": {
      "text/plain": [
       "asins\n",
       "B0002LCUZK,B010CEC6MI,B01B25NN64    [Expanding Accordion File Folder Plastic Porta...\n",
       "B001NIZB5M                          [Amazon Kindle Replacement Power Adapter (Fits...\n",
       "B005OOKNP4                          [AmazonBasics Bluetooth Keyboard for Android D...\n",
       "B006BGZJJ4                          [Amazon Kindle Charger Power Adapter Wall Char...\n",
       "B006GWO7UA                          [Kindle PowerFast International Charging Kit (...\n",
       "                                                          ...                        \n",
       "B06XD5YCKX                          [All-New Kindle Oasis E-reader - 7 High-Resolu...\n",
       "B073SQYXTW                                               [Echo Spot Pair Kit (Black)]\n",
       "B074MCBG25,B075357QFB               [Cat Litter Box Covered Tray Kitten Extra Larg...\n",
       "B0751RGYJV                          [Amazon Echo (2nd Generation) Smart Assistant ...\n",
       "B0752151W6                          [All-new Echo (2nd Generation) with improved s...\n",
       "Name: name, Length: 65, dtype: object"
      ]
     },
     "execution_count": 62,
     "metadata": {},
     "output_type": "execute_result"
    }
   ],
   "source": [
    "reviews.groupby(\"asins\")[\"name\"].unique()"
   ]
  },
  {
   "cell_type": "code",
   "execution_count": 63,
   "metadata": {
    "pycharm": {
     "is_executing": false
    }
   },
   "outputs": [],
   "source": [
    "%matplotlib inline "
   ]
  },
  {
   "cell_type": "code",
   "execution_count": 64,
   "metadata": {
    "pycharm": {
     "is_executing": false
    }
   },
   "outputs": [
    {
     "data": {
      "text/plain": [
       "<matplotlib.axes._subplots.AxesSubplot at 0x7f9e8bd214d0>"
      ]
     },
     "execution_count": 64,
     "metadata": {},
     "output_type": "execute_result"
    },
    {
     "data": {
      "image/png": "[encoded data removed]",
      "text/plain": [
       "<Figure size 1152x720 with 1 Axes>"
      ]
     },
     "metadata": {
      "needs_background": "light"
     },
     "output_type": "display_data"
    }
   ],
   "source": [
    "fig = plt.figure(figsize=(16,10))\n",
    "ax1 = plt.subplot(211)\n",
    "#ax2 = plt.subplot(212, sharex = ax1)\n",
    "reviews[\"asins\"].value_counts().plot(kind=\"bar\", ax=ax1, title=\"ASIN Frequency\")"
   ]
  },
  {
   "cell_type": "code",
   "execution_count": 65,
   "metadata": {
    "pycharm": {
     "is_executing": false
    }
   },
   "outputs": [
    {
     "data": {
      "text/html": [
       "<div>\n",
       "<style scoped>\n",
       "    .dataframe tbody tr th:only-of-type {\n",
       "        vertical-align: middle;\n",
       "    }\n",
       "\n",
       "    .dataframe tbody tr th {\n",
       "        vertical-align: top;\n",
       "    }\n",
       "\n",
       "    .dataframe thead th {\n",
       "        text-align: right;\n",
       "    }\n",
       "</style>\n",
       "<table border=\"1\" class=\"dataframe\">\n",
       "  <thead>\n",
       "    <tr style=\"text-align: right;\">\n",
       "      <th></th>\n",
       "      <th>reviews.id</th>\n",
       "      <th>reviews.numHelpful</th>\n",
       "      <th>reviews.rating</th>\n",
       "    </tr>\n",
       "  </thead>\n",
       "  <tbody>\n",
       "    <tr>\n",
       "      <th>reviews.id</th>\n",
       "      <td>1.000000</td>\n",
       "      <td>-0.553529</td>\n",
       "      <td>0.074941</td>\n",
       "    </tr>\n",
       "    <tr>\n",
       "      <th>reviews.numHelpful</th>\n",
       "      <td>-0.553529</td>\n",
       "      <td>1.000000</td>\n",
       "      <td>-0.041006</td>\n",
       "    </tr>\n",
       "    <tr>\n",
       "      <th>reviews.rating</th>\n",
       "      <td>0.074941</td>\n",
       "      <td>-0.041006</td>\n",
       "      <td>1.000000</td>\n",
       "    </tr>\n",
       "  </tbody>\n",
       "</table>\n",
       "</div>"
      ],
      "text/plain": [
       "                    reviews.id  reviews.numHelpful  reviews.rating\n",
       "reviews.id            1.000000           -0.553529        0.074941\n",
       "reviews.numHelpful   -0.553529            1.000000       -0.041006\n",
       "reviews.rating        0.074941           -0.041006        1.000000"
      ]
     },
     "execution_count": 65,
     "metadata": {},
     "output_type": "execute_result"
    }
   ],
   "source": [
    "corr_matrix = reviews.corr()\n",
    "corr_matrix\n",
    "# Here we can analyze reviews.ratings with asins"
   ]
  },
  {
   "cell_type": "code",
   "execution_count": 66,
   "metadata": {
    "pycharm": {
     "is_executing": false
    }
   },
   "outputs": [
    {
     "data": {
      "text/html": [
       "<div>\n",
       "<style scoped>\n",
       "    .dataframe tbody tr th:only-of-type {\n",
       "        vertical-align: middle;\n",
       "    }\n",
       "\n",
       "    .dataframe tbody tr th {\n",
       "        vertical-align: top;\n",
       "    }\n",
       "\n",
       "    .dataframe thead th {\n",
       "        text-align: right;\n",
       "    }\n",
       "</style>\n",
       "<table border=\"1\" class=\"dataframe\">\n",
       "  <thead>\n",
       "    <tr style=\"text-align: right;\">\n",
       "      <th></th>\n",
       "      <th>asins</th>\n",
       "    </tr>\n",
       "  </thead>\n",
       "  <tbody>\n",
       "    <tr>\n",
       "      <th>B00QWO9P0O,B00LH3DMUO</th>\n",
       "      <td>8343</td>\n",
       "    </tr>\n",
       "    <tr>\n",
       "      <th>B00QWO9P0O,B01IB83NZG,B00MNV8E0C</th>\n",
       "      <td>3728</td>\n",
       "    </tr>\n",
       "    <tr>\n",
       "      <th>B018T075DC</th>\n",
       "      <td>2443</td>\n",
       "    </tr>\n",
       "    <tr>\n",
       "      <th>B018SZT3BK,B01AHB9CN2</th>\n",
       "      <td>2370</td>\n",
       "    </tr>\n",
       "    <tr>\n",
       "      <th>B018Y226XO</th>\n",
       "      <td>1676</td>\n",
       "    </tr>\n",
       "  </tbody>\n",
       "</table>\n",
       "</div>"
      ],
      "text/plain": [
       "                                  asins\n",
       "B00QWO9P0O,B00LH3DMUO              8343\n",
       "B00QWO9P0O,B01IB83NZG,B00MNV8E0C   3728\n",
       "B018T075DC                         2443\n",
       "B018SZT3BK,B01AHB9CN2              2370\n",
       "B018Y226XO                         1676"
      ]
     },
     "execution_count": 66,
     "metadata": {},
     "output_type": "execute_result"
    }
   ],
   "source": [
    "counts = reviews[\"asins\"].value_counts().to_frame()\n",
    "counts.head()"
   ]
  },
  {
   "cell_type": "code",
   "execution_count": 67,
   "metadata": {
    "pycharm": {
     "is_executing": false
    }
   },
   "outputs": [
    {
     "data": {
      "text/html": [
       "<div>\n",
       "<style scoped>\n",
       "    .dataframe tbody tr th:only-of-type {\n",
       "        vertical-align: middle;\n",
       "    }\n",
       "\n",
       "    .dataframe tbody tr th {\n",
       "        vertical-align: top;\n",
       "    }\n",
       "\n",
       "    .dataframe thead th {\n",
       "        text-align: right;\n",
       "    }\n",
       "</style>\n",
       "<table border=\"1\" class=\"dataframe\">\n",
       "  <thead>\n",
       "    <tr style=\"text-align: right;\">\n",
       "      <th></th>\n",
       "      <th>reviews.rating</th>\n",
       "    </tr>\n",
       "    <tr>\n",
       "      <th>asins</th>\n",
       "      <th></th>\n",
       "    </tr>\n",
       "  </thead>\n",
       "  <tbody>\n",
       "    <tr>\n",
       "      <th>B0002LCUZK,B010CEC6MI,B01B25NN64</th>\n",
       "      <td>5.000000</td>\n",
       "    </tr>\n",
       "    <tr>\n",
       "      <th>B001NIZB5M</th>\n",
       "      <td>2.800000</td>\n",
       "    </tr>\n",
       "    <tr>\n",
       "      <th>B005OOKNP4</th>\n",
       "      <td>4.333333</td>\n",
       "    </tr>\n",
       "    <tr>\n",
       "      <th>B006BGZJJ4</th>\n",
       "      <td>4.666667</td>\n",
       "    </tr>\n",
       "    <tr>\n",
       "      <th>B006GWO7UA</th>\n",
       "      <td>4.800000</td>\n",
       "    </tr>\n",
       "  </tbody>\n",
       "</table>\n",
       "</div>"
      ],
      "text/plain": [
       "                                  reviews.rating\n",
       "asins                                           \n",
       "B0002LCUZK,B010CEC6MI,B01B25NN64        5.000000\n",
       "B001NIZB5M                              2.800000\n",
       "B005OOKNP4                              4.333333\n",
       "B006BGZJJ4                              4.666667\n",
       "B006GWO7UA                              4.800000"
      ]
     },
     "execution_count": 67,
     "metadata": {},
     "output_type": "execute_result"
    }
   ],
   "source": [
    "avg_rating = reviews.groupby(\"asins\")[\"reviews.rating\"].mean().to_frame()\n",
    "avg_rating.head()"
   ]
  },
  {
   "cell_type": "code",
   "execution_count": 68,
   "metadata": {
    "pycharm": {
     "is_executing": false
    }
   },
   "outputs": [
    {
     "data": {
      "text/html": [
       "<div>\n",
       "<style scoped>\n",
       "    .dataframe tbody tr th:only-of-type {\n",
       "        vertical-align: middle;\n",
       "    }\n",
       "\n",
       "    .dataframe tbody tr th {\n",
       "        vertical-align: top;\n",
       "    }\n",
       "\n",
       "    .dataframe thead th {\n",
       "        text-align: right;\n",
       "    }\n",
       "</style>\n",
       "<table border=\"1\" class=\"dataframe\">\n",
       "  <thead>\n",
       "    <tr style=\"text-align: right;\">\n",
       "      <th></th>\n",
       "      <th>asins</th>\n",
       "      <th>reviews.rating</th>\n",
       "    </tr>\n",
       "  </thead>\n",
       "  <tbody>\n",
       "    <tr>\n",
       "      <th>B00QWO9P0O,B00LH3DMUO</th>\n",
       "      <td>8343</td>\n",
       "      <td>4.448040</td>\n",
       "    </tr>\n",
       "    <tr>\n",
       "      <th>B00QWO9P0O,B01IB83NZG,B00MNV8E0C</th>\n",
       "      <td>3728</td>\n",
       "      <td>4.453594</td>\n",
       "    </tr>\n",
       "    <tr>\n",
       "      <th>B018T075DC</th>\n",
       "      <td>2443</td>\n",
       "      <td>4.597217</td>\n",
       "    </tr>\n",
       "    <tr>\n",
       "      <th>B018SZT3BK,B01AHB9CN2</th>\n",
       "      <td>2370</td>\n",
       "      <td>4.584388</td>\n",
       "    </tr>\n",
       "    <tr>\n",
       "      <th>B018Y226XO</th>\n",
       "      <td>1676</td>\n",
       "      <td>4.531026</td>\n",
       "    </tr>\n",
       "    <tr>\n",
       "      <th>B018Y22C2Y</th>\n",
       "      <td>1425</td>\n",
       "      <td>4.534035</td>\n",
       "    </tr>\n",
       "    <tr>\n",
       "      <th>B018Y23MNM</th>\n",
       "      <td>1212</td>\n",
       "      <td>4.534653</td>\n",
       "    </tr>\n",
       "    <tr>\n",
       "      <th>B018Y22BI4</th>\n",
       "      <td>1024</td>\n",
       "      <td>4.506836</td>\n",
       "    </tr>\n",
       "    <tr>\n",
       "      <th>B018Y225IA</th>\n",
       "      <td>987</td>\n",
       "      <td>4.511651</td>\n",
       "    </tr>\n",
       "    <tr>\n",
       "      <th>B01J94YIT6</th>\n",
       "      <td>883</td>\n",
       "      <td>4.578709</td>\n",
       "    </tr>\n",
       "    <tr>\n",
       "      <th>B018Y224PY</th>\n",
       "      <td>745</td>\n",
       "      <td>4.515436</td>\n",
       "    </tr>\n",
       "    <tr>\n",
       "      <th>B01BH83OOM</th>\n",
       "      <td>601</td>\n",
       "      <td>4.537438</td>\n",
       "    </tr>\n",
       "    <tr>\n",
       "      <th>B00IOY8XWQ</th>\n",
       "      <td>505</td>\n",
       "      <td>4.726733</td>\n",
       "    </tr>\n",
       "    <tr>\n",
       "      <th>B01J94SCAM</th>\n",
       "      <td>293</td>\n",
       "      <td>4.641638</td>\n",
       "    </tr>\n",
       "    <tr>\n",
       "      <th>B017JG41PC</th>\n",
       "      <td>287</td>\n",
       "      <td>4.543554</td>\n",
       "    </tr>\n",
       "    <tr>\n",
       "      <th>B01J94SBEY</th>\n",
       "      <td>233</td>\n",
       "      <td>4.630901</td>\n",
       "    </tr>\n",
       "    <tr>\n",
       "      <th>B01J94T1Z2</th>\n",
       "      <td>160</td>\n",
       "      <td>4.600000</td>\n",
       "    </tr>\n",
       "    <tr>\n",
       "      <th>B01AHB9C1E</th>\n",
       "      <td>156</td>\n",
       "      <td>4.589744</td>\n",
       "    </tr>\n",
       "    <tr>\n",
       "      <th>B01AHBDCKQ</th>\n",
       "      <td>156</td>\n",
       "      <td>4.583333</td>\n",
       "    </tr>\n",
       "    <tr>\n",
       "      <th>B01ACEKAJY</th>\n",
       "      <td>140</td>\n",
       "      <td>4.542857</td>\n",
       "    </tr>\n",
       "    <tr>\n",
       "      <th>B01J94SWWU</th>\n",
       "      <td>130</td>\n",
       "      <td>4.607692</td>\n",
       "    </tr>\n",
       "    <tr>\n",
       "      <th>B01AHB9CYG</th>\n",
       "      <td>115</td>\n",
       "      <td>4.565217</td>\n",
       "    </tr>\n",
       "    <tr>\n",
       "      <th>B0189XZRTI,B0189XYY0Q,B0189XZ0KY</th>\n",
       "      <td>99</td>\n",
       "      <td>4.585859</td>\n",
       "    </tr>\n",
       "    <tr>\n",
       "      <th>B01IO618J8</th>\n",
       "      <td>82</td>\n",
       "      <td>4.585366</td>\n",
       "    </tr>\n",
       "    <tr>\n",
       "      <th>B01AHBBG04</th>\n",
       "      <td>67</td>\n",
       "      <td>4.522388</td>\n",
       "    </tr>\n",
       "    <tr>\n",
       "      <th>B00ZS0G0PG</th>\n",
       "      <td>62</td>\n",
       "      <td>4.612903</td>\n",
       "    </tr>\n",
       "    <tr>\n",
       "      <th>B00REQKWGA</th>\n",
       "      <td>55</td>\n",
       "      <td>4.618182</td>\n",
       "    </tr>\n",
       "    <tr>\n",
       "      <th>B00VINDBJK</th>\n",
       "      <td>54</td>\n",
       "      <td>4.629630</td>\n",
       "    </tr>\n",
       "    <tr>\n",
       "      <th>B00QFQRELG</th>\n",
       "      <td>39</td>\n",
       "      <td>4.666667</td>\n",
       "    </tr>\n",
       "    <tr>\n",
       "      <th>B00IOYAM4I</th>\n",
       "      <td>36</td>\n",
       "      <td>4.888889</td>\n",
       "    </tr>\n",
       "  </tbody>\n",
       "</table>\n",
       "</div>"
      ],
      "text/plain": [
       "                                  asins  reviews.rating\n",
       "B00QWO9P0O,B00LH3DMUO              8343        4.448040\n",
       "B00QWO9P0O,B01IB83NZG,B00MNV8E0C   3728        4.453594\n",
       "B018T075DC                         2443        4.597217\n",
       "B018SZT3BK,B01AHB9CN2              2370        4.584388\n",
       "B018Y226XO                         1676        4.531026\n",
       "B018Y22C2Y                         1425        4.534035\n",
       "B018Y23MNM                         1212        4.534653\n",
       "B018Y22BI4                         1024        4.506836\n",
       "B018Y225IA                          987        4.511651\n",
       "B01J94YIT6                          883        4.578709\n",
       "B018Y224PY                          745        4.515436\n",
       "B01BH83OOM                          601        4.537438\n",
       "B00IOY8XWQ                          505        4.726733\n",
       "B01J94SCAM                          293        4.641638\n",
       "B017JG41PC                          287        4.543554\n",
       "B01J94SBEY                          233        4.630901\n",
       "B01J94T1Z2                          160        4.600000\n",
       "B01AHB9C1E                          156        4.589744\n",
       "B01AHBDCKQ                          156        4.583333\n",
       "B01ACEKAJY                          140        4.542857\n",
       "B01J94SWWU                          130        4.607692\n",
       "B01AHB9CYG                          115        4.565217\n",
       "B0189XZRTI,B0189XYY0Q,B0189XZ0KY     99        4.585859\n",
       "B01IO618J8                           82        4.585366\n",
       "B01AHBBG04                           67        4.522388\n",
       "B00ZS0G0PG                           62        4.612903\n",
       "B00REQKWGA                           55        4.618182\n",
       "B00VINDBJK                           54        4.629630\n",
       "B00QFQRELG                           39        4.666667\n",
       "B00IOYAM4I                           36        4.888889"
      ]
     },
     "execution_count": 68,
     "metadata": {},
     "output_type": "execute_result"
    }
   ],
   "source": [
    "table = counts.join(avg_rating)\n",
    "table.head(30)"
   ]
  },
  {
   "cell_type": "code",
   "execution_count": 69,
   "metadata": {
    "pycharm": {
     "is_executing": false
    }
   },
   "outputs": [
    {
     "data": {
      "text/html": [
       "<div>\n",
       "<style scoped>\n",
       "    .dataframe tbody tr th:only-of-type {\n",
       "        vertical-align: middle;\n",
       "    }\n",
       "\n",
       "    .dataframe tbody tr th {\n",
       "        vertical-align: top;\n",
       "    }\n",
       "\n",
       "    .dataframe thead th {\n",
       "        text-align: right;\n",
       "    }\n",
       "</style>\n",
       "<table border=\"1\" class=\"dataframe\">\n",
       "  <thead>\n",
       "    <tr style=\"text-align: right;\">\n",
       "      <th></th>\n",
       "      <th>asins</th>\n",
       "      <th>reviews.rating</th>\n",
       "    </tr>\n",
       "  </thead>\n",
       "  <tbody>\n",
       "    <tr>\n",
       "      <th>asins</th>\n",
       "      <td>1.000000</td>\n",
       "      <td>0.021024</td>\n",
       "    </tr>\n",
       "    <tr>\n",
       "      <th>reviews.rating</th>\n",
       "      <td>0.021024</td>\n",
       "      <td>1.000000</td>\n",
       "    </tr>\n",
       "  </tbody>\n",
       "</table>\n",
       "</div>"
      ],
      "text/plain": [
       "                   asins  reviews.rating\n",
       "asins           1.000000        0.021024\n",
       "reviews.rating  0.021024        1.000000"
      ]
     },
     "execution_count": 69,
     "metadata": {},
     "output_type": "execute_result"
    },
    {
     "data": {
      "image/png": "[encoded data removed]",
      "text/plain": [
       "<Figure size 432x288 with 1 Axes>"
      ]
     },
     "metadata": {
      "needs_background": "light"
     },
     "output_type": "display_data"
    }
   ],
   "source": [
    "plt.scatter(\"asins\", \"reviews.rating\", data=table)\n",
    "table.corr()\n"
   ]
  },
  {
   "cell_type": "code",
   "execution_count": null,
   "metadata": {
    "pycharm": {
     "is_executing": false
    }
   },
   "outputs": [],
   "source": []
  }
 ],
 "metadata": {
  "kernelspec": {
   "display_name": "Python 3",
   "language": "python",
   "name": "python3"
  },
  "language_info": {
   "codemirror_mode": {
    "name": "ipython",
    "version": 3
   },
   "file_extension": ".py",
   "mimetype": "text/x-python",
   "name": "python",
   "nbconvert_exporter": "python",
   "pygments_lexer": "ipython3",
   "version": "3.7.5"
  },
  "pycharm": {
   "stem_cell": {
    "cell_type": "raw",
    "metadata": {
     "collapsed": false
    },
    "source": []
   }
  }
 },
 "nbformat": 4,
 "nbformat_minor": 4
}
